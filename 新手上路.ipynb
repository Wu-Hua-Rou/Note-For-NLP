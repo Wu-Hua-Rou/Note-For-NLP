{
 "cells": [
  {
   "cell_type": "code",
   "execution_count": 50,
   "metadata": {},
   "outputs": [],
   "source": [
    "import os\n",
    "from collections import Counter\n",
    "import numpy as np\n",
    "from pyhanlp import *\n",
    "import pandas as pd"
   ]
  },
  {
   "cell_type": "markdown",
   "metadata": {},
   "source": [
    "# 1 词频与词排名的关系"
   ]
  },
  {
   "cell_type": "code",
   "execution_count": 54,
   "metadata": {},
   "outputs": [
    {
     "name": "stdout",
     "output_type": "stream",
     "text": [
      "Collecting test_utility\n"
     ]
    },
    {
     "name": "stderr",
     "output_type": "stream",
     "text": [
      "  Could not find a version that satisfies the requirement test_utility (from versions: )\n",
      "No matching distribution found for test_utility\n",
      "You are using pip version 10.0.1, however version 20.3.1 is available.\n",
      "You should consider upgrading via the 'python -m pip install --upgrade pip' command.\n"
     ]
    }
   ],
   "source": [
    "!pip install test_utility"
   ]
  },
  {
   "cell_type": "code",
   "execution_count": null,
   "metadata": {},
   "outputs": [],
   "source": [
    "# from test_utility import ensure_data\n",
    "# sighan05 = ensure_data('icwb2-data','http://sighan.cs.uchicago.edu/bakeoff2005/data/icwb2-data.zip')"
   ]
  },
  {
   "cell_type": "markdown",
   "metadata": {},
   "source": [
    "## icwb2-data\n",
    "icwb2-data是一个中文分词数据集\n",
    "sighan05是icwb2-data最终需要存放的路径"
   ]
  },
  {
   "cell_type": "code",
   "execution_count": 56,
   "metadata": {},
   "outputs": [],
   "source": [
    " sighan05 = r'D:\\Anaconda\\Lib\\site-packages\\pyhanlp\\static\\data\\test\\icwb2-data'"
   ]
  },
  {
   "cell_type": "markdown",
   "metadata": {},
   "source": [
    "os.oath.join()是os库中用于路径拼接的方法，下面代码是在sighan05路径后拼接training和msr_training.utf8\n",
    "\n",
    "os.oath.join()用法：\n",
    "（1）如果各组件名首字母不包含’/’，则函数会自动加上\n",
    "（2）如果有一个组件是一个绝对路径，则在它之前的所有组件均会被舍弃\n",
    "（3）如果最后一个组件为空，则生成的路径以一个’/’分隔符结尾"
   ]
  },
  {
   "cell_type": "code",
   "execution_count": 69,
   "metadata": {
    "scrolled": true
   },
   "outputs": [
    {
     "data": {
      "text/plain": [
       "'D:\\\\Anaconda\\\\Lib\\\\site-packages\\\\pyhanlp\\\\static\\\\data\\\\test\\\\icwb2-data\\\\training\\\\msr_training.utf8'"
      ]
     },
     "execution_count": 69,
     "metadata": {},
     "output_type": "execute_result"
    }
   ],
   "source": [
    "msr = os.path.join(sighan05,'training','msr_training.utf8')\n",
    "msr"
   ]
  },
  {
   "cell_type": "code",
   "execution_count": 64,
   "metadata": {},
   "outputs": [],
   "source": [
    "f = Counter()\n",
    "with open(msr,encoding='utf-8') as src:\n",
    "    for line in src:\n",
    "        line = line.strip()\n",
    "        for word in line.split(' '):\n",
    "            f[word] += 1"
   ]
  },
  {
   "cell_type": "code",
   "execution_count": 67,
   "metadata": {},
   "outputs": [
    {
     "name": "stdout",
     "output_type": "stream",
     "text": [
      "[('，', 173173), ('的', 128146), ('。', 81757), ('、', 40695), ('在', 28445), ('了', 27103), ('和', 24398), ('是', 18068), ('”', 16867), ('“', 16686), ('一', 11503), ('有', 9905), ('对', 9654), ('为', 9516), ('中', 9444), ('上', 8408), ('不', 7222), ('这', 7198), ('与', 7197), ('他', 7062), ('就', 6485), ('人', 6338), ('到', 6316), ('等', 6008), ('：', 5988), ('发展', 5976), ('说', 5973), ('也', 5801), ('要', 5660), ('将', 5651)]\n"
     ]
    },
    {
     "data": {
      "image/png": "[encoded data removed]",
      "text/plain": [
       "<Figure size 432x288 with 1 Axes>"
      ]
     },
     "metadata": {
      "needs_background": "light"
     },
     "output_type": "display_data"
    }
   ],
   "source": [
    "f = Counter()\n",
    "with open(msr, encoding='utf-8') as src:\n",
    "    for line in src:\n",
    "        line = line.strip()\n",
    "        for word in line.split('  '):\n",
    "            # word = word.strip()\n",
    "            # if len(word) < 2: continue\n",
    "            f[word] += 1\n",
    "\n",
    "\n",
    "def plot(token_counts, title='MSR语料库词频统计', ylabel='词频'):\n",
    "    from matplotlib import pyplot as plt\n",
    "    plt.rcParams['font.sans-serif'] = ['SimHei']  # 用来正常显示中文标签\n",
    "    plt.rcParams['axes.unicode_minus'] = False  # 用来正常显示负号\n",
    "    fig = plt.figure(\n",
    "        # figsize=(8, 6)\n",
    "    )\n",
    "    ax = fig.add_subplot(111)\n",
    "    token_counts = list(zip(*token_counts))\n",
    "    num_elements = np.arange(len(token_counts[0]))\n",
    "    top_offset = max(token_counts[1]) + len(str(max(token_counts[1])))\n",
    "    ax.set_title(title)\n",
    "    ax.set_xlabel('词语')\n",
    "    ax.set_ylabel(ylabel)\n",
    "    ax.xaxis.set_label_coords(1.05, 0.015)\n",
    "    ax.set_xticks(num_elements)\n",
    "    ax.set_xticklabels(token_counts[0], rotation=55, verticalalignment='top')\n",
    "    ax.set_ylim([0, top_offset])\n",
    "    ax.set_xlim([-1, len(token_counts[0])])\n",
    "    rects = ax.plot(num_elements, token_counts[1], linewidth=1.5)\n",
    "    plt.show()\n",
    "\n",
    "\n",
    "word_freq = f.most_common(30)\n",
    "print(word_freq)\n",
    "plot(word_freq)\n",
    "# log_word_freq = []\n",
    "# for w, f in word_freq:\n",
    "#     log_word_freq.append((w, np.log(f)))\n",
    "# plot(log_word_freq, ylabel='词频的对数')"
   ]
  },
  {
   "cell_type": "code",
   "execution_count": 70,
   "metadata": {},
   "outputs": [
    {
     "name": "stdout",
     "output_type": "stream",
     "text": [
      "E:\\王泓儒\\NLP\\练习代码\\Untitled Folder\n"
     ]
    }
   ],
   "source": [
    "import os\n",
    "print(os.path.abspath('.'))"
   ]
  },
  {
   "cell_type": "code",
   "execution_count": null,
   "metadata": {},
   "outputs": [],
   "source": []
  }
 ],
 "metadata": {
  "kernelspec": {
   "display_name": "Python 3",
   "language": "python",
   "name": "python3"
  },
  "language_info": {
   "codemirror_mode": {
    "name": "ipython",
    "version": 3
   },
   "file_extension": ".py",
   "mimetype": "text/x-python",
   "name": "python",
   "nbconvert_exporter": "python",
   "pygments_lexer": "ipython3",
   "version": "3.7.0"
  }
 },
 "nbformat": 4,
 "nbformat_minor": 2
}
